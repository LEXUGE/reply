{
 "cells": [
  {
   "cell_type": "code",
   "execution_count": 75,
   "id": "4b1a8bde-8e17-4978-a91a-d303d62b5a95",
   "metadata": {},
   "outputs": [],
   "source": [
    "import pandas as pd\n",
    "from prophet import Prophet"
   ]
  },
  {
   "cell_type": "code",
   "execution_count": 76,
   "id": "372c6ac3-f8a4-4a9d-8b5c-56371f8de30c",
   "metadata": {},
   "outputs": [],
   "source": [
    "# Read the raw data\n",
    "# Everything before the train_test_split is called \"raw data\"\n",
    "raw_data = pd.read_csv('./data/ULEV Registrations As of 2022.csv')\n",
    "\n",
    "# Clean up and reorganize data\n",
    "\n",
    "# Store the geographical correspondence seperately\n",
    "geo_data = raw_data.filter(regex=r'ONS Code|ONS Geography|ONS Sort')\n",
    "# Strip whitespaces in geographic regions\n",
    "geo_data['ONS Geography [note 6]'].str.lstrip()\n",
    "# Renmae columns\n",
    "geo_data = geo_data.rename(columns={\"ONS Geography [note 6]\": \"geo\", \"ONS Code\": \"code\", \"ONS Sort\": \"sort\"})\n",
    "\n",
    "# The real data used to train the models\n",
    "# We only care about the ONS Geography or the quarterly registration\n",
    "raw_data = raw_data.filter(regex=r'ONS Code|Q')\n",
    "\n",
    "# Melt the data to put quarter as a number instead of a column\n",
    "raw_data = raw_data.melt(id_vars='ONS Code', var_name='Quarter', value_name='val')\n",
    "# Extract the digits out of the quarter\n",
    "raw_data['Quarter'] = raw_data['Quarter'].str.extract('(\\d+)', expand=False).astype(int)\n",
    "# Rename the columns\n",
    "raw_data = raw_data.rename(columns={\"Quarter\": \"quarter\", \"ONS Code\": \"code\"})\n",
    "\n",
    "# Sort the data by quarter\n",
    "raw_data = raw_data.sort_values(['quarter'])"
   ]
  },
  {
   "cell_type": "code",
   "execution_count": 84,
   "id": "de40f636-8bd4-44e5-88e7-4926968689e6",
   "metadata": {},
   "outputs": [
    {
     "name": "stderr",
     "output_type": "stream",
     "text": [
      "16:45:01 - cmdstanpy - INFO - Chain [1] start processing\n",
      "16:45:01 - cmdstanpy - INFO - Chain [1] done processing\n"
     ]
    },
    {
     "name": "stdout",
     "output_type": "stream",
     "text": [
      "(41, 1)\n"
     ]
    },
    {
     "name": "stderr",
     "output_type": "stream",
     "text": [
      "16:45:01 - cmdstanpy - INFO - Chain [1] start processing\n"
     ]
    },
    {
     "name": "stdout",
     "output_type": "stream",
     "text": [
      "1683    43\n",
      "1262    49\n",
      "841     64\n",
      "420     88\n",
      "Name: y, dtype: int64\n",
      "37    30.669382\n",
      "38    32.599436\n",
      "39    35.119473\n",
      "40    35.943630\n",
      "Name: yhat, dtype: float64\n",
      "-2.287705768262517\n"
     ]
    },
    {
     "name": "stderr",
     "output_type": "stream",
     "text": [
      "16:45:01 - cmdstanpy - INFO - Chain [1] done processing\n"
     ]
    },
    {
     "name": "stdout",
     "output_type": "stream",
     "text": [
      "(41, 1)\n"
     ]
    },
    {
     "name": "stderr",
     "output_type": "stream",
     "text": [
      "16:45:02 - cmdstanpy - INFO - Chain [1] start processing\n"
     ]
    },
    {
     "name": "stdout",
     "output_type": "stream",
     "text": [
      "1395    144\n",
      "974     166\n",
      "553     201\n",
      "132     216\n",
      "Name: y, dtype: int64\n",
      "37    145.855230\n",
      "38    159.950150\n",
      "39    163.724181\n",
      "40    173.590027\n",
      "Name: yhat, dtype: float64\n",
      "-0.003539292273736505\n"
     ]
    },
    {
     "name": "stderr",
     "output_type": "stream",
     "text": [
      "16:45:02 - cmdstanpy - INFO - Chain [1] done processing\n"
     ]
    },
    {
     "name": "stdout",
     "output_type": "stream",
     "text": [
      "(41, 1)\n"
     ]
    },
    {
     "name": "stderr",
     "output_type": "stream",
     "text": [
      "16:45:03 - cmdstanpy - INFO - Chain [1] start processing\n"
     ]
    },
    {
     "name": "stdout",
     "output_type": "stream",
     "text": [
      "1396     81\n",
      "975      91\n",
      "554     104\n",
      "133     128\n",
      "Name: y, dtype: int64\n",
      "37    74.470131\n",
      "38    77.924353\n",
      "39    79.972190\n",
      "40    84.074269\n",
      "Name: yhat, dtype: float64\n",
      "-1.1974291398697372\n"
     ]
    },
    {
     "name": "stderr",
     "output_type": "stream",
     "text": [
      "16:45:03 - cmdstanpy - INFO - Chain [1] done processing\n"
     ]
    },
    {
     "name": "stdout",
     "output_type": "stream",
     "text": [
      "(41, 1)\n"
     ]
    },
    {
     "name": "stderr",
     "output_type": "stream",
     "text": [
      "16:45:03 - cmdstanpy - INFO - Chain [1] start processing\n",
      "16:45:03 - cmdstanpy - INFO - Chain [1] done processing\n"
     ]
    },
    {
     "name": "stdout",
     "output_type": "stream",
     "text": [
      "1397    104\n",
      "976     116\n",
      "555     137\n",
      "134     164\n",
      "Name: y, dtype: int64\n",
      "37    82.742917\n",
      "38    88.149813\n",
      "39    92.876266\n",
      "40    99.509141\n",
      "Name: yhat, dtype: float64\n",
      "-2.531224901678235\n",
      "(41, 1)\n"
     ]
    },
    {
     "name": "stderr",
     "output_type": "stream",
     "text": [
      "16:45:03 - cmdstanpy - INFO - Chain [1] start processing\n"
     ]
    },
    {
     "name": "stdout",
     "output_type": "stream",
     "text": [
      "1398    65\n",
      "977     74\n",
      "556     79\n",
      "135     92\n",
      "Name: y, dtype: int64\n",
      "37    47.857915\n",
      "38    47.699011\n",
      "39    54.057419\n",
      "40    60.294672\n",
      "Name: yhat, dtype: float64\n",
      "-5.8581451191694\n"
     ]
    },
    {
     "name": "stderr",
     "output_type": "stream",
     "text": [
      "16:45:04 - cmdstanpy - INFO - Chain [1] done processing\n"
     ]
    },
    {
     "name": "stdout",
     "output_type": "stream",
     "text": [
      "(41, 1)\n"
     ]
    },
    {
     "name": "stderr",
     "output_type": "stream",
     "text": [
      "16:45:04 - cmdstanpy - INFO - Chain [1] start processing\n",
      "16:45:04 - cmdstanpy - INFO - Chain [1] done processing\n"
     ]
    },
    {
     "name": "stdout",
     "output_type": "stream",
     "text": [
      "1399     76\n",
      "978      75\n",
      "557      88\n",
      "136     111\n",
      "Name: y, dtype: int64\n",
      "37    55.748161\n",
      "38    59.672646\n",
      "39    64.668440\n",
      "40    69.536443\n",
      "Name: yhat, dtype: float64\n",
      "-2.458564805202292\n",
      "(41, 1)\n"
     ]
    },
    {
     "name": "stderr",
     "output_type": "stream",
     "text": [
      "16:45:05 - cmdstanpy - INFO - Chain [1] start processing\n",
      "16:45:05 - cmdstanpy - INFO - Chain [1] done processing\n"
     ]
    },
    {
     "name": "stdout",
     "output_type": "stream",
     "text": [
      "1400     90\n",
      "979     104\n",
      "558     106\n",
      "137     127\n",
      "Name: y, dtype: int64\n",
      "37    76.503864\n",
      "38    78.143486\n",
      "39    81.776095\n",
      "40    85.610769\n",
      "Name: yhat, dtype: float64\n",
      "-3.5088672828008356\n",
      "(41, 1)\n"
     ]
    },
    {
     "name": "stderr",
     "output_type": "stream",
     "text": [
      "16:45:05 - cmdstanpy - INFO - Chain [1] start processing\n"
     ]
    },
    {
     "name": "stdout",
     "output_type": "stream",
     "text": [
      "1401    35\n",
      "980     42\n",
      "559     51\n",
      "138     53\n",
      "Name: y, dtype: int64\n",
      "37    31.961059\n",
      "38    34.393492\n",
      "39    34.269111\n",
      "40    36.749311\n",
      "Name: yhat, dtype: float64\n",
      "-1.9274330431767082\n"
     ]
    },
    {
     "name": "stderr",
     "output_type": "stream",
     "text": [
      "16:45:05 - cmdstanpy - INFO - Chain [1] done processing\n"
     ]
    },
    {
     "name": "stdout",
     "output_type": "stream",
     "text": [
      "(41, 1)\n"
     ]
    },
    {
     "name": "stderr",
     "output_type": "stream",
     "text": [
      "16:45:06 - cmdstanpy - INFO - Chain [1] start processing\n",
      "16:45:06 - cmdstanpy - INFO - Chain [1] done processing\n"
     ]
    },
    {
     "name": "stdout",
     "output_type": "stream",
     "text": [
      "1402    41\n",
      "981     42\n",
      "560     50\n",
      "139     62\n",
      "Name: y, dtype: int64\n",
      "37    35.447599\n",
      "38    38.213993\n",
      "39    39.737454\n",
      "40    40.943056\n",
      "Name: yhat, dtype: float64\n",
      "-1.1003633124184473\n",
      "(41, 1)\n"
     ]
    },
    {
     "name": "stderr",
     "output_type": "stream",
     "text": [
      "16:45:06 - cmdstanpy - INFO - Chain [1] start processing\n"
     ]
    },
    {
     "name": "stdout",
     "output_type": "stream",
     "text": [
      "1403    2544\n",
      "982     3513\n",
      "561     4806\n",
      "140     6297\n",
      "Name: y, dtype: int64\n",
      "37    2448.312563\n",
      "38    2644.860315\n",
      "39    2711.815595\n",
      "40    2779.614917\n",
      "Name: yhat, dtype: float64\n",
      "-1.2047843075246103\n"
     ]
    },
    {
     "name": "stderr",
     "output_type": "stream",
     "text": [
      "16:45:07 - cmdstanpy - INFO - Chain [1] done processing\n"
     ]
    },
    {
     "name": "stdout",
     "output_type": "stream",
     "text": [
      "(41, 1)\n"
     ]
    },
    {
     "name": "stderr",
     "output_type": "stream",
     "text": [
      "16:45:07 - cmdstanpy - INFO - Chain [1] start processing\n"
     ]
    },
    {
     "name": "stdout",
     "output_type": "stream",
     "text": [
      "1404    52\n",
      "983     63\n",
      "562     66\n",
      "141     71\n",
      "Name: y, dtype: int64\n",
      "37    52.377690\n",
      "38    56.672948\n",
      "39    59.900141\n",
      "40    65.365045\n",
      "Name: yhat, dtype: float64\n",
      "0.4374472316559891\n"
     ]
    },
    {
     "name": "stderr",
     "output_type": "stream",
     "text": [
      "16:45:07 - cmdstanpy - INFO - Chain [1] done processing\n"
     ]
    },
    {
     "name": "stdout",
     "output_type": "stream",
     "text": [
      "(41, 1)\n"
     ]
    },
    {
     "name": "stderr",
     "output_type": "stream",
     "text": [
      "16:45:07 - cmdstanpy - INFO - Chain [1] start processing\n"
     ]
    },
    {
     "name": "stdout",
     "output_type": "stream",
     "text": [
      "1394    636\n",
      "973     710\n",
      "552     816\n",
      "131     953\n",
      "Name: y, dtype: int64\n",
      "37    566.272528\n",
      "38    603.510570\n",
      "39    626.235894\n",
      "40    659.456631\n",
      "Name: yhat, dtype: float64\n",
      "-1.433922308210335\n"
     ]
    },
    {
     "name": "stderr",
     "output_type": "stream",
     "text": [
      "16:45:08 - cmdstanpy - INFO - Chain [1] done processing\n"
     ]
    },
    {
     "name": "stdout",
     "output_type": "stream",
     "text": [
      "(41, 1)\n"
     ]
    },
    {
     "name": "stderr",
     "output_type": "stream",
     "text": [
      "16:45:08 - cmdstanpy - INFO - Chain [1] start processing\n"
     ]
    },
    {
     "name": "stdout",
     "output_type": "stream",
     "text": [
      "1405     61\n",
      "984      75\n",
      "563      82\n",
      "142     100\n",
      "Name: y, dtype: int64\n",
      "37    55.869553\n",
      "38    61.563192\n",
      "39    63.042956\n",
      "40    67.013678\n",
      "Name: yhat, dtype: float64\n",
      "-1.096750613416475\n"
     ]
    },
    {
     "name": "stderr",
     "output_type": "stream",
     "text": [
      "16:45:08 - cmdstanpy - INFO - Chain [1] done processing\n"
     ]
    },
    {
     "name": "stdout",
     "output_type": "stream",
     "text": [
      "(41, 1)\n"
     ]
    },
    {
     "name": "stderr",
     "output_type": "stream",
     "text": [
      "16:45:09 - cmdstanpy - INFO - Chain [1] start processing\n"
     ]
    },
    {
     "name": "stdout",
     "output_type": "stream",
     "text": [
      "1407    191\n",
      "986     210\n",
      "565     218\n",
      "144     249\n",
      "Name: y, dtype: int64\n",
      "37    262.565801\n",
      "38    270.160541\n",
      "39    263.368353\n",
      "40    266.540268\n",
      "Name: yhat, dtype: float64\n",
      "-5.346801729306043\n"
     ]
    },
    {
     "name": "stderr",
     "output_type": "stream",
     "text": [
      "16:45:09 - cmdstanpy - INFO - Chain [1] done processing\n"
     ]
    },
    {
     "name": "stdout",
     "output_type": "stream",
     "text": [
      "(41, 1)\n"
     ]
    },
    {
     "name": "stderr",
     "output_type": "stream",
     "text": [
      "16:45:09 - cmdstanpy - INFO - Chain [1] start processing\n"
     ]
    },
    {
     "name": "stdout",
     "output_type": "stream",
     "text": [
      "1408    2120\n",
      "987     2993\n",
      "566     4327\n",
      "145     5746\n",
      "Name: y, dtype: int64\n",
      "37    1923.260894\n",
      "38    2063.357498\n",
      "39    2131.580517\n",
      "40    2188.117915\n",
      "Name: yhat, dtype: float64\n",
      "-1.4384101466364485\n"
     ]
    },
    {
     "name": "stderr",
     "output_type": "stream",
     "text": [
      "16:45:10 - cmdstanpy - INFO - Chain [1] done processing\n"
     ]
    },
    {
     "name": "stdout",
     "output_type": "stream",
     "text": [
      "(41, 1)\n"
     ]
    },
    {
     "name": "stderr",
     "output_type": "stream",
     "text": [
      "16:45:10 - cmdstanpy - INFO - Chain [1] start processing\n"
     ]
    },
    {
     "name": "stdout",
     "output_type": "stream",
     "text": [
      "1409    6532\n",
      "988     7794\n",
      "567     8343\n",
      "146     9828\n",
      "Name: y, dtype: int64\n",
      "37    7034.891716\n",
      "38    7739.801765\n",
      "39    8785.927228\n",
      "40    9120.632062\n",
      "Name: yhat, dtype: float64\n",
      "0.8297763106111233\n"
     ]
    },
    {
     "name": "stderr",
     "output_type": "stream",
     "text": [
      "16:45:11 - cmdstanpy - INFO - Chain [1] done processing\n"
     ]
    },
    {
     "name": "stdout",
     "output_type": "stream",
     "text": [
      "(41, 1)\n"
     ]
    },
    {
     "name": "stderr",
     "output_type": "stream",
     "text": [
      "16:45:11 - cmdstanpy - INFO - Chain [1] start processing\n"
     ]
    },
    {
     "name": "stdout",
     "output_type": "stream",
     "text": [
      "1410    647\n",
      "989     699\n",
      "568     723\n",
      "147     818\n",
      "Name: y, dtype: int64\n",
      "37    2964.011860\n",
      "38    3161.747373\n",
      "39    3856.598280\n",
      "40    3645.912873\n",
      "Name: yhat, dtype: float64\n",
      "-1901.977927671402\n"
     ]
    },
    {
     "name": "stderr",
     "output_type": "stream",
     "text": [
      "16:45:11 - cmdstanpy - INFO - Chain [1] done processing\n"
     ]
    },
    {
     "name": "stdout",
     "output_type": "stream",
     "text": [
      "(41, 1)\n"
     ]
    },
    {
     "name": "stderr",
     "output_type": "stream",
     "text": [
      "16:45:11 - cmdstanpy - INFO - Chain [1] start processing\n"
     ]
    },
    {
     "name": "stdout",
     "output_type": "stream",
     "text": [
      "1411    389\n",
      "990     483\n",
      "569     561\n",
      "148     734\n",
      "Name: y, dtype: int64\n",
      "37    386.641857\n",
      "38    402.400563\n",
      "39    417.307297\n",
      "40    421.883018\n",
      "Name: yhat, dtype: float64\n",
      "-0.942867019701197\n"
     ]
    },
    {
     "name": "stderr",
     "output_type": "stream",
     "text": [
      "16:45:12 - cmdstanpy - INFO - Chain [1] done processing\n"
     ]
    },
    {
     "name": "stdout",
     "output_type": "stream",
     "text": [
      "(41, 1)\n"
     ]
    },
    {
     "name": "stderr",
     "output_type": "stream",
     "text": [
      "16:45:12 - cmdstanpy - INFO - Chain [1] start processing\n"
     ]
    },
    {
     "name": "stdout",
     "output_type": "stream",
     "text": [
      "1412    134\n",
      "991     164\n",
      "570     210\n",
      "149     234\n",
      "Name: y, dtype: int64\n",
      "37    111.900835\n",
      "38    116.948204\n",
      "39    122.501655\n",
      "40    133.752916\n",
      "Name: yhat, dtype: float64\n",
      "-2.363718948419286\n"
     ]
    },
    {
     "ename": "KeyboardInterrupt",
     "evalue": "",
     "output_type": "error",
     "traceback": [
      "\u001b[0;31m---------------------------------------------------------------------------\u001b[0m",
      "\u001b[0;31mKeyboardInterrupt\u001b[0m                         Traceback (most recent call last)",
      "Cell \u001b[0;32mIn[84], line 16\u001b[0m\n\u001b[1;32m     13\u001b[0m test \u001b[38;5;241m=\u001b[39m raw_data_test[raw_data_test[\u001b[38;5;124m'\u001b[39m\u001b[38;5;124mcode\u001b[39m\u001b[38;5;124m'\u001b[39m] \u001b[38;5;241m==\u001b[39m code]\u001b[38;5;241m.\u001b[39mdrop(columns \u001b[38;5;241m=\u001b[39m [\u001b[38;5;124m\"\u001b[39m\u001b[38;5;124mcode\u001b[39m\u001b[38;5;124m\"\u001b[39m])\n\u001b[1;32m     14\u001b[0m train[\u001b[38;5;124m\"\u001b[39m\u001b[38;5;124mds\u001b[39m\u001b[38;5;124m\"\u001b[39m] \u001b[38;5;241m=\u001b[39m pd\u001b[38;5;241m.\u001b[39mdate_range(start\u001b[38;5;241m=\u001b[39m\u001b[38;5;124m'\u001b[39m\u001b[38;5;124m1/10/2011\u001b[39m\u001b[38;5;124m'\u001b[39m, periods\u001b[38;5;241m=\u001b[39m\u001b[38;5;241m37\u001b[39m, freq \u001b[38;5;241m=\u001b[39m \u001b[38;5;124m\"\u001b[39m\u001b[38;5;124mQ\u001b[39m\u001b[38;5;124m\"\u001b[39m)\n\u001b[0;32m---> 16\u001b[0m m \u001b[38;5;241m=\u001b[39m \u001b[43mProphet\u001b[49m\u001b[43m(\u001b[49m\u001b[43mchangepoint_prior_scale\u001b[49m\u001b[38;5;241;43m=\u001b[39;49m\u001b[38;5;241;43m2\u001b[39;49m\u001b[43m)\u001b[49m\u001b[38;5;241;43m.\u001b[39;49m\u001b[43mfit\u001b[49m\u001b[43m(\u001b[49m\u001b[43mtrain\u001b[49m\u001b[43m)\u001b[49m\n\u001b[1;32m     17\u001b[0m future \u001b[38;5;241m=\u001b[39m m\u001b[38;5;241m.\u001b[39mmake_future_dataframe(periods\u001b[38;5;241m=\u001b[39m\u001b[38;5;241m4\u001b[39m, freq\u001b[38;5;241m=\u001b[39m\u001b[38;5;124m\"\u001b[39m\u001b[38;5;124mQ\u001b[39m\u001b[38;5;124m\"\u001b[39m)\n\u001b[1;32m     18\u001b[0m \u001b[38;5;28mprint\u001b[39m(future\u001b[38;5;241m.\u001b[39mshape)\n",
      "File \u001b[0;32m/nix/store/7vl4vagsr6b5lymv2nbaf8sz03vzn5aa-python3-3.10.8-env/lib/python3.10/site-packages/prophet/forecaster.py:1174\u001b[0m, in \u001b[0;36mProphet.fit\u001b[0;34m(self, df, **kwargs)\u001b[0m\n\u001b[1;32m   1172\u001b[0m     \u001b[38;5;28mself\u001b[39m\u001b[38;5;241m.\u001b[39mparams \u001b[38;5;241m=\u001b[39m \u001b[38;5;28mself\u001b[39m\u001b[38;5;241m.\u001b[39mstan_backend\u001b[38;5;241m.\u001b[39msampling(stan_init, dat, \u001b[38;5;28mself\u001b[39m\u001b[38;5;241m.\u001b[39mmcmc_samples, \u001b[38;5;241m*\u001b[39m\u001b[38;5;241m*\u001b[39mkwargs)\n\u001b[1;32m   1173\u001b[0m \u001b[38;5;28;01melse\u001b[39;00m:\n\u001b[0;32m-> 1174\u001b[0m     \u001b[38;5;28mself\u001b[39m\u001b[38;5;241m.\u001b[39mparams \u001b[38;5;241m=\u001b[39m \u001b[38;5;28;43mself\u001b[39;49m\u001b[38;5;241;43m.\u001b[39;49m\u001b[43mstan_backend\u001b[49m\u001b[38;5;241;43m.\u001b[39;49m\u001b[43mfit\u001b[49m\u001b[43m(\u001b[49m\u001b[43mstan_init\u001b[49m\u001b[43m,\u001b[49m\u001b[43m \u001b[49m\u001b[43mdat\u001b[49m\u001b[43m,\u001b[49m\u001b[43m \u001b[49m\u001b[38;5;241;43m*\u001b[39;49m\u001b[38;5;241;43m*\u001b[39;49m\u001b[43mkwargs\u001b[49m\u001b[43m)\u001b[49m\n\u001b[1;32m   1176\u001b[0m \u001b[38;5;28mself\u001b[39m\u001b[38;5;241m.\u001b[39mstan_fit \u001b[38;5;241m=\u001b[39m \u001b[38;5;28mself\u001b[39m\u001b[38;5;241m.\u001b[39mstan_backend\u001b[38;5;241m.\u001b[39mstan_fit\n\u001b[1;32m   1177\u001b[0m \u001b[38;5;66;03m# If no changepoints were requested, replace delta with 0s\u001b[39;00m\n",
      "File \u001b[0;32m/nix/store/7vl4vagsr6b5lymv2nbaf8sz03vzn5aa-python3-3.10.8-env/lib/python3.10/site-packages/prophet/models.py:96\u001b[0m, in \u001b[0;36mCmdStanPyBackend.fit\u001b[0;34m(self, stan_init, stan_data, **kwargs)\u001b[0m\n\u001b[1;32m     93\u001b[0m args\u001b[38;5;241m.\u001b[39mupdate(kwargs)\n\u001b[1;32m     95\u001b[0m \u001b[38;5;28;01mtry\u001b[39;00m:\n\u001b[0;32m---> 96\u001b[0m     \u001b[38;5;28mself\u001b[39m\u001b[38;5;241m.\u001b[39mstan_fit \u001b[38;5;241m=\u001b[39m \u001b[38;5;28;43mself\u001b[39;49m\u001b[38;5;241;43m.\u001b[39;49m\u001b[43mmodel\u001b[49m\u001b[38;5;241;43m.\u001b[39;49m\u001b[43moptimize\u001b[49m\u001b[43m(\u001b[49m\u001b[38;5;241;43m*\u001b[39;49m\u001b[38;5;241;43m*\u001b[39;49m\u001b[43margs\u001b[49m\u001b[43m)\u001b[49m\n\u001b[1;32m     97\u001b[0m \u001b[38;5;28;01mexcept\u001b[39;00m \u001b[38;5;167;01mRuntimeError\u001b[39;00m \u001b[38;5;28;01mas\u001b[39;00m e:\n\u001b[1;32m     98\u001b[0m     \u001b[38;5;66;03m# Fall back on Newton\u001b[39;00m\n\u001b[1;32m     99\u001b[0m     \u001b[38;5;28;01mif\u001b[39;00m \u001b[38;5;129;01mnot\u001b[39;00m \u001b[38;5;28mself\u001b[39m\u001b[38;5;241m.\u001b[39mnewton_fallback \u001b[38;5;129;01mor\u001b[39;00m args[\u001b[38;5;124m'\u001b[39m\u001b[38;5;124malgorithm\u001b[39m\u001b[38;5;124m'\u001b[39m] \u001b[38;5;241m==\u001b[39m \u001b[38;5;124m'\u001b[39m\u001b[38;5;124mNewton\u001b[39m\u001b[38;5;124m'\u001b[39m:\n",
      "File \u001b[0;32m/nix/store/7vl4vagsr6b5lymv2nbaf8sz03vzn5aa-python3-3.10.8-env/lib/python3.10/site-packages/cmdstanpy/model.py:710\u001b[0m, in \u001b[0;36mCmdStanModel.optimize\u001b[0;34m(self, data, seed, inits, output_dir, sig_figs, save_profile, algorithm, init_alpha, tol_obj, tol_rel_obj, tol_grad, tol_rel_grad, tol_param, history_size, iter, save_iterations, require_converged, show_console, refresh, time_fmt, timeout)\u001b[0m\n\u001b[1;32m    708\u001b[0m     dummy_chain_id \u001b[38;5;241m=\u001b[39m \u001b[38;5;241m0\u001b[39m\n\u001b[1;32m    709\u001b[0m     runset \u001b[38;5;241m=\u001b[39m RunSet(args\u001b[38;5;241m=\u001b[39margs, chains\u001b[38;5;241m=\u001b[39m\u001b[38;5;241m1\u001b[39m, time_fmt\u001b[38;5;241m=\u001b[39mtime_fmt)\n\u001b[0;32m--> 710\u001b[0m     \u001b[38;5;28;43mself\u001b[39;49m\u001b[38;5;241;43m.\u001b[39;49m\u001b[43m_run_cmdstan\u001b[49m\u001b[43m(\u001b[49m\n\u001b[1;32m    711\u001b[0m \u001b[43m        \u001b[49m\u001b[43mrunset\u001b[49m\u001b[43m,\u001b[49m\n\u001b[1;32m    712\u001b[0m \u001b[43m        \u001b[49m\u001b[43mdummy_chain_id\u001b[49m\u001b[43m,\u001b[49m\n\u001b[1;32m    713\u001b[0m \u001b[43m        \u001b[49m\u001b[43mshow_console\u001b[49m\u001b[38;5;241;43m=\u001b[39;49m\u001b[43mshow_console\u001b[49m\u001b[43m,\u001b[49m\n\u001b[1;32m    714\u001b[0m \u001b[43m        \u001b[49m\u001b[43mtimeout\u001b[49m\u001b[38;5;241;43m=\u001b[39;49m\u001b[43mtimeout\u001b[49m\u001b[43m,\u001b[49m\n\u001b[1;32m    715\u001b[0m \u001b[43m    \u001b[49m\u001b[43m)\u001b[49m\n\u001b[1;32m    716\u001b[0m runset\u001b[38;5;241m.\u001b[39mraise_for_timeouts()\n\u001b[1;32m    718\u001b[0m \u001b[38;5;28;01mif\u001b[39;00m \u001b[38;5;129;01mnot\u001b[39;00m runset\u001b[38;5;241m.\u001b[39m_check_retcodes():\n",
      "File \u001b[0;32m/nix/store/7vl4vagsr6b5lymv2nbaf8sz03vzn5aa-python3-3.10.8-env/lib/python3.10/site-packages/cmdstanpy/model.py:1612\u001b[0m, in \u001b[0;36mCmdStanModel._run_cmdstan\u001b[0;34m(self, runset, idx, show_progress, show_console, progress_hook, timeout)\u001b[0m\n\u001b[1;32m   1610\u001b[0m \u001b[38;5;28;01mwhile\u001b[39;00m proc\u001b[38;5;241m.\u001b[39mpoll() \u001b[38;5;129;01mis\u001b[39;00m \u001b[38;5;28;01mNone\u001b[39;00m:\n\u001b[1;32m   1611\u001b[0m     \u001b[38;5;28;01mif\u001b[39;00m proc\u001b[38;5;241m.\u001b[39mstdout \u001b[38;5;129;01mis\u001b[39;00m \u001b[38;5;129;01mnot\u001b[39;00m \u001b[38;5;28;01mNone\u001b[39;00m:\n\u001b[0;32m-> 1612\u001b[0m         line \u001b[38;5;241m=\u001b[39m \u001b[43mproc\u001b[49m\u001b[38;5;241;43m.\u001b[39;49m\u001b[43mstdout\u001b[49m\u001b[38;5;241;43m.\u001b[39;49m\u001b[43mreadline\u001b[49m\u001b[43m(\u001b[49m\u001b[43m)\u001b[49m\n\u001b[1;32m   1613\u001b[0m         fd_out\u001b[38;5;241m.\u001b[39mwrite(line)\n\u001b[1;32m   1614\u001b[0m         line \u001b[38;5;241m=\u001b[39m line\u001b[38;5;241m.\u001b[39mstrip()\n",
      "\u001b[0;31mKeyboardInterrupt\u001b[0m: "
     ]
    }
   ],
   "source": [
    "from sklearn.model_selection import train_test_split\n",
    "from sklearn import metrics\n",
    "\n",
    "# test out on the first region\n",
    "\n",
    "raw_data = raw_data.rename(columns = {\"quarter\": \"ds\", \"val\": \"y\"})\n",
    "\n",
    "raw_data_train, raw_data_test = train_test_split(raw_data, test_size = 0.1, shuffle = False)\n",
    "\n",
    "\n",
    "for code in raw_data[\"code\"]:\n",
    "    train = raw_data_train[raw_data_train['code'] == code].drop(columns = [\"code\"])\n",
    "    test = raw_data_test[raw_data_test['code'] == code].drop(columns = [\"code\"])\n",
    "    train[\"ds\"] = pd.date_range(start='1/10/2011', periods=37, freq = \"Q\")\n",
    "    \n",
    "    m = Prophet(changepoint_prior_scale=2).fit(train)\n",
    "    future = m.make_future_dataframe(periods=4, freq=\"Q\")\n",
    "    print(future.shape)\n",
    "    fcst = m.predict(future)\n",
    "    \n",
    "    print(test[\"y\"])\n",
    "    print(fcst[\"yhat\"].tail(4))\n",
    "    \n",
    "    print(metrics.r2_score(test[\"y\"], fcst[\"yhat\"].tail(4)))"
   ]
  },
  {
   "cell_type": "code",
   "execution_count": 67,
   "id": "48fc636b-d9b1-4598-9bc7-a92673710916",
   "metadata": {},
   "outputs": [
    {
     "name": "stderr",
     "output_type": "stream",
     "text": [
      "16:23:17 - cmdstanpy - INFO - Chain [1] start processing\n",
      "16:23:17 - cmdstanpy - INFO - Chain [1] done processing\n"
     ]
    },
    {
     "data": {
      "image/png": "[encoded data removed]",
      "text/plain": [
       "<Figure size 1000x600 with 1 Axes>"
      ]
     },
     "metadata": {},
     "output_type": "display_data"
    }
   ],
   "source": [
    "from prophet.plot import add_changepoints_to_plot\n",
    "\n",
    "m = Prophet(changepoint_prior_scale=1).fit(train)\n",
    "future = m.make_future_dataframe(periods=4, freq=\"Q\")\n",
    "fcst = m.predict(future)\n",
    "fig = m.plot(fcst)\n",
    "a = add_changepoints_to_plot(fig.gca(), m, fcst)"
   ]
  },
  {
   "cell_type": "code",
   "execution_count": null,
   "id": "44f01d2e-8a4a-496e-b41f-5b3a6e4ee40c",
   "metadata": {},
   "outputs": [],
   "source": []
  }
 ],
 "metadata": {
  "kernelspec": {
   "display_name": "Data Science Environment",
   "language": "python",
   "name": "datasci"
  },
  "language_info": {
   "codemirror_mode": {
    "name": "ipython",
    "version": 3
   },
   "file_extension": ".py",
   "mimetype": "text/x-python",
   "name": "python",
   "nbconvert_exporter": "python",
   "pygments_lexer": "ipython3",
   "version": "3.10.8"
  }
 },
 "nbformat": 4,
 "nbformat_minor": 5
}
